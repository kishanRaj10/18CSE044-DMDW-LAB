{
 "cells": [
  {
   "cell_type": "markdown",
   "metadata": {},
   "source": [
    "# Assignment-1"
   ]
  },
  {
   "cell_type": "code",
   "execution_count": 3,
   "metadata": {},
   "outputs": [
    {
     "name": "stdout",
     "output_type": "stream",
     "text": [
      "Enter the data\n",
      "3 3 3 3 3\n",
      "Mean is =  3.0\n",
      "Median is =  3.0\n",
      "Mode is =  [3.0]\n"
     ]
    }
   ],
   "source": [
    "from collections import Counter\n",
    "print(\"Enter the data\")\n",
    "data=[float(i) for i in input().split()]\n",
    "n=len(data)\n",
    "mean=sum(data)/n\n",
    "print(\"Mean is = \",mean)\n",
    "\n",
    "#calculation of median\n",
    "temp=data.copy()\n",
    "temp=sorted(temp)\n",
    "if n%2!=0:\n",
    "  print(\"Median is = \",temp[n//2])\n",
    "else:\n",
    "  median=(temp[n//2]+temp[n//2+1])/2\n",
    "  print(\"Median is = \",median)\n",
    "\n",
    "#calculation of mode\n",
    "cnt=Counter(data)\n",
    "maxi=max(cnt.items(),key= lambda x:x[1])[1]\n",
    "mode=[]\n",
    "for each in cnt.items():\n",
    "  if each[1]==maxi:\n",
    "    mode.append(each[0])\n",
    "if len(mode)==n:\n",
    "  print(\"Mode cannot be determined\")\n",
    "else:\n",
    "  print(\"Mode is = \",mode)"
   ]
  },
  {
   "cell_type": "code",
   "execution_count": 4,
   "metadata": {},
   "outputs": [
    {
     "name": "stdout",
     "output_type": "stream",
     "text": [
      "Enter the data\n",
      "25 26 27 30 32\n",
      "Variance is =  6.8\n",
      "Standard Deviation is =  2.6076809620810595\n"
     ]
    }
   ],
   "source": [
    "#calculation of variance\n",
    "print(\"Enter the data\")\n",
    "data=[float(i) for i in input().split()]\n",
    "n=len(data)\n",
    "mean=sum(data)/n\n",
    "sum1=0\n",
    "for e in data:\n",
    "  sum1+=(e-mean)**2\n",
    "variance=sum1/n\n",
    "print('Variance is = ',variance)\n",
    "#calculation of standard deviation\n",
    "std=variance**(0.5)\n",
    "print(\"Standard Deviation is = \",std)"
   ]
  }
 ],
 "metadata": {
  "kernelspec": {
   "display_name": "Python 3",
   "language": "python",
   "name": "python3"
  },
  "language_info": {
   "codemirror_mode": {
    "name": "ipython",
    "version": 3
   },
   "file_extension": ".py",
   "mimetype": "text/x-python",
   "name": "python",
   "nbconvert_exporter": "python",
   "pygments_lexer": "ipython3",
   "version": "3.8.3"
  }
 },
 "nbformat": 4,
 "nbformat_minor": 4
}
