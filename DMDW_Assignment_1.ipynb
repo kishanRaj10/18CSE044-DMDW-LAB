{
  "nbformat": 4,
  "nbformat_minor": 0,
  "metadata": {
    "colab": {
      "name": "DMDW/Assignment-1.ipynb",
      "provenance": [],
      "collapsed_sections": [],
      "authorship_tag": "ABX9TyPWOCX6gjiDqnyaOLi+GGPh",
      "include_colab_link": true
    },
    "kernelspec": {
      "name": "python3",
      "display_name": "Python 3"
    }
  },
  "cells": [
    {
      "cell_type": "markdown",
      "metadata": {
        "id": "view-in-github",
        "colab_type": "text"
      },
      "source": [
        "<a href=\"https://colab.research.google.com/github/kishanRaj10/18CSE044-DMDW-LAB/blob/main/DMDW_Assignment_1.ipynb\" target=\"_parent\"><img src=\"https://colab.research.google.com/assets/colab-badge.svg\" alt=\"Open In Colab\"/></a>"
      ]
    },
    {
      "cell_type": "markdown",
      "metadata": {
        "id": "yy6gGjoVHjwJ"
      },
      "source": [
        "## ***Q.1 Write a python code for finding mean, median and mode with and without using library functions.***"
      ]
    },
    {
      "cell_type": "code",
      "metadata": {
        "colab": {
          "base_uri": "https://localhost:8080/"
        },
        "id": "Ql0jujTQHcwk",
        "outputId": "61964b39-dc90-4ca8-a59e-ec678c072eaa"
      },
      "source": [
        "list1=[]\n",
        "n=int(input(\"Enter number of elements:\"))\n",
        "for i in range(0,n):\n",
        "  item=int(input())\n",
        "  list1.append(item)\n",
        "\n",
        "#finding the mean\n",
        "\n",
        "\n",
        "num_sum = sum(list1)\n",
        "mean = num_sum / len(list1)\n",
        "print(list1)\n",
        "print(\"Mean of above list:\" + str(round(mean,2)))\n",
        "\n",
        "\n",
        "\n",
        "\n",
        "#finding the median\n",
        "\n",
        "\n",
        "list1.sort()\n",
        "if len(list1) % 2 == 0:\n",
        "   median1 = list1[len(list1) // 2]\n",
        "   median2 = list1[len(list1) // 2 - 1]\n",
        "   median = (median1 + median2) / 2\n",
        "else:\n",
        "   median = list1[len(list1) // 2]\n",
        "print(list1)\n",
        "print(\"Median of above list: \" + str(median))\n",
        "\n",
        "#finding the mode\n",
        "\n",
        "L1=[] \n",
        "    \n",
        "j = 0\n",
        "while j < len(list1) : \n",
        "    L1.append(list1.count(list1[j])) \n",
        "    j += 1\n",
        "  \n",
        "d1 = dict(zip(list1, L1)) \n",
        "  \n",
        "d2={k for (k,v) in d1.items() if v == max(L1) } \n",
        "  \n",
        "print(\"Mode(s) is/are :\" + str(d2))\n"
      ],
      "execution_count": 3,
      "outputs": [
        {
          "output_type": "stream",
          "text": [
            "Enter number of elements you want in yor list:-6\n",
            "6\n",
            "8\n",
            "5\n",
            "6\n",
            "6\n",
            "6\n",
            "[6, 8, 5, 6, 6, 6]\n",
            "Mean of above list:6.17\n",
            "[5, 6, 6, 6, 6, 8]\n",
            "Median of above list: 6.0\n",
            "Mode(s) is/are :{6}\n"
          ],
          "name": "stdout"
        }
      ]
    },
    {
      "cell_type": "markdown",
      "metadata": {
        "id": "2q6xWcrVKOFA"
      },
      "source": [
        "## Q**.2 Write a python code for calculating variance and standard deviation for the set of elements with and without using library functions.**"
      ]
    },
    {
      "cell_type": "code",
      "metadata": {
        "colab": {
          "base_uri": "https://localhost:8080/"
        },
        "id": "lENuTQZXKZG8",
        "outputId": "ee580f45-0b09-408d-aa4b-d4ee927801b0"
      },
      "source": [
        "list1=[]\n",
        "n=int(input(\"Enter number of elements:\"))\n",
        "for i in range(0,n):\n",
        "  item=int(input())\n",
        "  list1.append(item)\n",
        "\n",
        "#finding the variance\n",
        "\n",
        "ddof=0\n",
        "ddof1=1\n",
        "n = len(list1)\n",
        "mean = sum(list1) / n\n",
        "s1=sum((x - mean) ** 2 for x in list1) / (n - ddof)\n",
        "s2=sum((x - mean) ** 2 for x in list1) / (n - ddof1)\n",
        "print(list1)\n",
        "print(\"Variance:\",s1)\n",
        "print(\"Estimation value for Variance:\",s2)\n",
        "\n",
        "#finding the standard deviation\n",
        "\n",
        "var = s1\n",
        "var1 = s2\n",
        "std_dev = (var)**(1/2)\n",
        "estd_dev = (var1)**(1/2)\n",
        "print(\"Standard Deviation:\",std_dev)\n",
        "print(\"Estimated value for Standard Deviation:\",estd_dev)"
      ],
      "execution_count": 4,
      "outputs": [
        {
          "output_type": "stream",
          "text": [
            "Enter number of elements:10\n",
            "5\n",
            "6\n",
            "8\n",
            "4\n",
            "9\n",
            "2\n",
            "6\n",
            "8\n",
            "4\n",
            "5\n",
            "[5, 6, 8, 4, 9, 2, 6, 8, 4, 5]\n",
            "Variance: 4.210000000000001\n",
            "Estimation value for Variance: 4.677777777777779\n",
            "Standard Deviation: 2.0518284528683193\n",
            "Estimated value for Standard Deviation: 2.1628170930011117\n"
          ],
          "name": "stdout"
        }
      ]
    },
    {
      "cell_type": "markdown",
      "metadata": {
        "id": "KDLXpTolLx9k"
      },
      "source": [
        "## **Q3. Practice some basic python programs with List, Tuple, Dictionary & string.**"
      ]
    },
    {
      "cell_type": "markdown",
      "metadata": {
        "id": "k08M4ZpPWtcu"
      },
      "source": [
        "**a)List** "
      ]
    },
    {
      "cell_type": "code",
      "metadata": {
        "colab": {
          "base_uri": "https://localhost:8080/"
        },
        "id": "e7BaCubjW3ef",
        "outputId": "9b66e4cb-f336-4e6f-9aa2-e49c4732ff9b"
      },
      "source": [
        "def listex():\n",
        "  l1=[1,11,\"Harvey\",\"Spector\"]\n",
        "  print(\"length\",len(l1))\n",
        "  l1.append(7)\n",
        "  l2=[5,6,99,1,10,20]\n",
        "  l2.sort()\n",
        "  print(\"Sorting:\",l2)\n",
        "  l2.remove(20)\n",
        "  print(\"Remove the element 20:\",l2)\n",
        "  del l1[1]\n",
        "  print(\"Delete 1st index\",l1)\n",
        "  l1.insert(2,999)\n",
        "  print(\"Insert a value at 2nd Index\",l1)\n",
        "  print(\"count:\",l1.count('Harvey'))\n",
        "  l2=[10,20,30]\n",
        "  print(\"merging l1,l2\",l1+l2)\n",
        "  str=\"Hai\"\n",
        "  print(\"Hello\"+str)\n",
        "  print(\"Multiplying:\",l1*3)\n",
        "  if 10 in l1:\n",
        "    print(\"there\")\n",
        "  else:\n",
        "    print(\"not there\")\n",
        "  if 10 not in l1:\n",
        "    print(\"not there\")\n",
        "  else:\n",
        "    print(\"there\")\n",
        "listex()\n",
        "\n",
        "def listex1():\n",
        "    l11=[1,10,\"Harvey\",\"Spector\"]\n",
        "    rl=[]\n",
        "    for j in l11[::-1]:\n",
        "        rl.append(j)\n",
        "    print(rl)\n",
        "    l11.reverse()\n",
        "    print(l11)\n",
        "listex1()\n",
        "def listex2():\n",
        "    l22=[1,1,2,3,4,5,6,7,8,7,7,6]\n",
        "    l=[]\n",
        "    for k in l22:\n",
        "        if k not in l:\n",
        "            l.append(k)\n",
        "    print(l)\n",
        "listex2()\n"
      ],
      "execution_count": 5,
      "outputs": [
        {
          "output_type": "stream",
          "text": [
            "length 4\n",
            "Sorting: [1, 5, 6, 10, 20, 99]\n",
            "Remove the element 20: [1, 5, 6, 10, 99]\n",
            "Delete 1st index [1, 'Harvey', 'Spector', 7]\n",
            "Insert a value at 2nd Index [1, 'Harvey', 999, 'Spector', 7]\n",
            "count: 1\n",
            "merging l1,l2 [1, 'Harvey', 999, 'Spector', 7, 10, 20, 30]\n",
            "HelloHai\n",
            "Multiplying: [1, 'Harvey', 999, 'Spector', 7, 1, 'Harvey', 999, 'Spector', 7, 1, 'Harvey', 999, 'Spector', 7]\n",
            "not there\n",
            "not there\n",
            "['Spector', 'Harvey', 10, 1]\n",
            "['Spector', 'Harvey', 10, 1]\n",
            "[1, 2, 3, 4, 5, 6, 7, 8]\n"
          ],
          "name": "stdout"
        }
      ]
    },
    {
      "cell_type": "markdown",
      "metadata": {
        "id": "Nj0co_vzZJet"
      },
      "source": [
        "b)**Tuple**"
      ]
    },
    {
      "cell_type": "code",
      "metadata": {
        "colab": {
          "base_uri": "https://localhost:8080/"
        },
        "id": "LBrJ5JocZP4U",
        "outputId": "2824f5c5-1524-4a33-fffe-7937db357fc0"
      },
      "source": [
        "def tuplex():\n",
        "  t1=(1,11,\"Rachael\",\"Zane\")\n",
        "  print(\"Elements in t1:\",t1)\n",
        "  t2=(7,21,35,49)\n",
        "  t3=t1+t2\n",
        "  print(\"Merge:\",t3)\n",
        "  print(\"Slice:\",t1[1:3])\n",
        "  print(\"Slice:\",t2[0:-1])\n",
        "  print(\"Multiply:\",t1*3)\n",
        "tuplex()"
      ],
      "execution_count": 6,
      "outputs": [
        {
          "output_type": "stream",
          "text": [
            "Elements in t1: (1, 11, 'Rachael', 'Zane')\n",
            "Merge: (1, 11, 'Rachael', 'Zane', 7, 21, 35, 49)\n",
            "Slice: (11, 'Rachael')\n",
            "Slice: (7, 21, 35)\n",
            "Multiply: (1, 11, 'Rachael', 'Zane', 1, 11, 'Rachael', 'Zane', 1, 11, 'Rachael', 'Zane')\n"
          ],
          "name": "stdout"
        }
      ]
    },
    {
      "cell_type": "markdown",
      "metadata": {
        "id": "cJS_vLsyZmkZ"
      },
      "source": [
        "c)**Dictionary**"
      ]
    },
    {
      "cell_type": "code",
      "metadata": {
        "colab": {
          "base_uri": "https://localhost:8080/"
        },
        "id": "-veIKyhKZp7M",
        "outputId": "b67ac00b-0940-42d1-9099-547ad978e8f1"
      },
      "source": [
        "def dictex():\n",
        "  d1={1:11,2:21,3:31,4:41,1:101}\n",
        "  print(d1)\n",
        "  print(\"Keys:\",d1.keys())\n",
        "  print(\"Value:\",d1.values())\n",
        "  print(d1[1])\n",
        "\n",
        "dictex()"
      ],
      "execution_count": 7,
      "outputs": [
        {
          "output_type": "stream",
          "text": [
            "{1: 101, 2: 21, 3: 31, 4: 41}\n",
            "Keys: dict_keys([1, 2, 3, 4])\n",
            "Value: dict_values([101, 21, 31, 41])\n",
            "101\n"
          ],
          "name": "stdout"
        }
      ]
    },
    {
      "cell_type": "markdown",
      "metadata": {
        "id": "dGakGHHpZ-NX"
      },
      "source": [
        "d)**String**"
      ]
    },
    {
      "cell_type": "code",
      "metadata": {
        "colab": {
          "base_uri": "https://localhost:8080/"
        },
        "id": "s8_vdDbcaCPO",
        "outputId": "6f37285b-f3e7-491b-bfec-69b25c93418d"
      },
      "source": [
        "print(\"len:\",len(\"Heya\"))\n",
        "print(\"Heya,\"+\"What are you up to?\")\n",
        "print(\"Heya\"*4)\n",
        "print('Heya\\\\How')\n",
        "if 's' in \"saniel\":\n",
        "  print(\"True\")\n",
        "else:\n",
        "  print(\"False\")\n",
        "if 'j' in \"Monica\":\n",
        "  print(\"True\")\n",
        "else:\n",
        "  print(\"False\")\n",
        "S=\"satya\"\n",
        "print(S.find('sa'))\n",
        "print(S.find('a'))\n",
        "print(S.find('a',2,4))\n",
        "print(S.find('a',2,3))\n",
        "print(S.index('sa'))\n",
        "print(S.index('t',2,4))\n",
        "s1=\"abcabcab\"\n",
        "s2=s1.replace('a','cd')\n",
        "print(s1,'\\n',s2)\n",
        "print(\"id of s1\",id(s1))\n",
        "print(\"id of s2\",id(s2))\n",
        "s3=\"Hai Bye\"\n",
        "s4=s3.upper()\n",
        "s5=s3.lower()\n",
        "s6=s3.swapcase()\n",
        "s7=s3.title()\n",
        "s8=s3.capitalize()\n",
        "print(s4)\n",
        "print(s5)\n",
        "print(s6)\n",
        "print(s7)\n",
        "print(s8)"
      ],
      "execution_count": 10,
      "outputs": [
        {
          "output_type": "stream",
          "text": [
            "len: 4\n",
            "Heya,What are you up to?\n",
            "HeyaHeyaHeyaHeya\n",
            "Heya\\How\n",
            "True\n",
            "False\n",
            "0\n",
            "1\n",
            "-1\n",
            "-1\n",
            "0\n",
            "2\n",
            "abcabcab \n",
            " cdbccdbccdb\n",
            "id of s1 139781759586992\n",
            "id of s2 139781759529584\n",
            "HAI BYE\n",
            "hai bye\n",
            "hAI bYE\n",
            "Hai Bye\n",
            "Hai bye\n"
          ],
          "name": "stdout"
        }
      ]
    },
    {
      "cell_type": "code",
      "metadata": {
        "id": "pmUVAsRia7ZS"
      },
      "source": [
        ""
      ],
      "execution_count": null,
      "outputs": []
    }
  ]
}